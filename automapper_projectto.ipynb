{
 "cells": [
  {
   "cell_type": "markdown",
   "metadata": {},
   "source": [
    "# Testy AutoMappera"
   ]
  },
  {
   "cell_type": "markdown",
   "metadata": {},
   "source": [
    "## Motywacja\n",
    "\n",
    "Sprawdzić czy ProjectTo<> ma wpływ na na budowanie query, aby dowieść, że Queries są niepotrzebne w naszym projekcie w większości przypadków"
   ]
  },
  {
   "cell_type": "markdown",
   "metadata": {},
   "source": [
    "## Przygotowanie\n",
    "Tutaj importuję wszystkie niezbędne biblioteki oraz deklaruje klasy pomocnicze."
   ]
  },
  {
   "cell_type": "code",
   "execution_count": null,
   "metadata": {
    "dotnet_interactive": {
     "language": "csharp"
    },
    "vscode": {
     "languageId": "dotnet-interactive.csharp"
    }
   },
   "outputs": [],
   "source": [
    "using System.Linq;\n",
    "using System.Collections.Generic;"
   ]
  },
  {
   "cell_type": "markdown",
   "metadata": {},
   "source": [
    "### EntityFramework"
   ]
  },
  {
   "cell_type": "code",
   "execution_count": null,
   "metadata": {
    "dotnet_interactive": {
     "language": "csharp"
    },
    "vscode": {
     "languageId": "dotnet-interactive.csharp"
    }
   },
   "outputs": [
    {
     "data": {
      "text/html": [
       "<div><div></div><div></div><div><strong>Installed Packages</strong><ul><li><span>Microsoft.EntityFrameworkCore, 6.0.6</span></li><li><span>Microsoft.EntityFrameworkCore.Sqlite.Core, 6.0.6</span></li></ul></div></div>"
      ]
     },
     "metadata": {},
     "output_type": "display_data"
    }
   ],
   "source": [
    "#r \"nuget:Microsoft.EntityFrameworkCore,6.0.6\"\n",
    "#r \"nuget:Microsoft.EntityFrameworkCore.Sqlite.Core,6.0.6\""
   ]
  },
  {
   "cell_type": "code",
   "execution_count": null,
   "metadata": {
    "dotnet_interactive": {
     "language": "csharp"
    },
    "vscode": {
     "languageId": "dotnet-interactive.csharp"
    }
   },
   "outputs": [],
   "source": [
    "using Microsoft.EntityFrameworkCore;"
   ]
  },
  {
   "cell_type": "code",
   "execution_count": null,
   "metadata": {
    "dotnet_interactive": {
     "language": "csharp"
    },
    "vscode": {
     "languageId": "dotnet-interactive.csharp"
    }
   },
   "outputs": [],
   "source": [
    "public class Article\n",
    "{\n",
    "    public int ArticleId { get; set; }\n",
    "    public string Articlenumber { get; set; }\n",
    "}\n",
    "\n",
    "public class Articlewarehouse\n",
    "{\n",
    "    public int ArticlewarehouseId { get; set; }\n",
    "    public int ArticleId { get; set; }\n",
    "\n",
    "    public Article Article { get; set; }\n",
    "}\n",
    "\n",
    "public class MyDbContext: DbContext\n",
    "{\n",
    "    public DbSet<Article> Articles { get; set; }\n",
    "    public DbSet<Articlewarehouse> Articlewarehouses { get; set; }\n",
    "\n",
    "    protected override void OnConfiguring(DbContextOptionsBuilder optionsBuilder)\n",
    "    {\n",
    "        optionsBuilder.UseSqlite(\"Data Source=sample.db\");\n",
    "    }\n",
    "}"
   ]
  },
  {
   "cell_type": "markdown",
   "metadata": {},
   "source": [
    "### AutoMapper"
   ]
  },
  {
   "cell_type": "code",
   "execution_count": null,
   "metadata": {
    "dotnet_interactive": {
     "language": "csharp"
    },
    "vscode": {
     "languageId": "dotnet-interactive.csharp"
    }
   },
   "outputs": [
    {
     "data": {
      "text/html": [
       "<div><div></div><div></div><div><strong>Installed Packages</strong><ul><li><span>AutoMapper, 12.0.1</span></li></ul></div></div>"
      ]
     },
     "metadata": {},
     "output_type": "display_data"
    }
   ],
   "source": [
    "#r \"nuget:AutoMapper,12.0.1\""
   ]
  },
  {
   "cell_type": "code",
   "execution_count": null,
   "metadata": {
    "dotnet_interactive": {
     "language": "csharp"
    },
    "vscode": {
     "languageId": "dotnet-interactive.csharp"
    }
   },
   "outputs": [],
   "source": [
    "using AutoMapper;\n",
    "using AutoMapper.QueryableExtensions;"
   ]
  },
  {
   "cell_type": "markdown",
   "metadata": {},
   "source": [
    "### Unit test"
   ]
  },
  {
   "cell_type": "code",
   "execution_count": null,
   "metadata": {
    "dotnet_interactive": {
     "language": "csharp"
    },
    "vscode": {
     "languageId": "dotnet-interactive.csharp"
    }
   },
   "outputs": [
    {
     "data": {
      "text/html": [
       "<div><div></div><div></div><div><strong>Installed Packages</strong><ul><li><span>FluentAssertions, 6.9.0</span></li><li><span>NSubstitute, 4.4.0</span></li><li><span>xunit, 2.4.2</span></li></ul></div></div>"
      ]
     },
     "metadata": {},
     "output_type": "display_data"
    }
   ],
   "source": [
    "#r \"nuget:xunit,2.4.2\"\n",
    "#r \"nuget:FluentAssertions,6.9.0\"\n",
    "#r \"nuget:NSubstitute,4.4.0\""
   ]
  },
  {
   "cell_type": "code",
   "execution_count": null,
   "metadata": {
    "dotnet_interactive": {
     "language": "csharp"
    },
    "vscode": {
     "languageId": "dotnet-interactive.csharp"
    }
   },
   "outputs": [],
   "source": [
    "using Xunit;\n",
    "using Xunit.Sdk;\n",
    "\n",
    "using FluentAssertions;\n",
    "\n",
    "using NSubstitute;"
   ]
  },
  {
   "cell_type": "code",
   "execution_count": null,
   "metadata": {
    "dotnet_interactive": {
     "language": "csharp"
    },
    "vscode": {
     "languageId": "dotnet-interactive.csharp"
    }
   },
   "outputs": [],
   "source": [
    "// Test executor\n",
    "\n",
    "public void RunTest(Action action)\n",
    "{\n",
    "    try\n",
    "    {\n",
    "        action();\n",
    "\n",
    "        $\"{action.Method.Name}: Success\".Display();\n",
    "    }\n",
    "    catch(XunitException)\n",
    "    {\n",
    "        $\"{action.Method.Name}: Fail\".Display();\n",
    "    }\n",
    "    catch(Exception exeption)\n",
    "    {\n",
    "        $\"{action.Method.Name}: Fail\".Display();\n",
    "        throw exeption;\n",
    "    }\n",
    "}"
   ]
  },
  {
   "cell_type": "markdown",
   "metadata": {},
   "source": [
    "### Konfiguracja AutoMappera oraz DTO"
   ]
  },
  {
   "cell_type": "code",
   "execution_count": null,
   "metadata": {
    "dotnet_interactive": {
     "language": "csharp"
    },
    "vscode": {
     "languageId": "dotnet-interactive.csharp"
    }
   },
   "outputs": [],
   "source": [
    "public class ArticleDto\n",
    "{\n",
    "    public int ArticleId { get; set; }\n",
    "    public string Articlenumber { get; set; }\n",
    "}"
   ]
  },
  {
   "cell_type": "code",
   "execution_count": null,
   "metadata": {
    "dotnet_interactive": {
     "language": "csharp"
    },
    "vscode": {
     "languageId": "dotnet-interactive.csharp"
    }
   },
   "outputs": [],
   "source": [
    "public class ArticleWarehouseWithoutArticleDto\n",
    "{\n",
    "    public int ArticlewarehouseId { get; set; }\n",
    "    public int ArticleId { get; set; }\n",
    "}"
   ]
  },
  {
   "cell_type": "code",
   "execution_count": null,
   "metadata": {
    "dotnet_interactive": {
     "language": "csharp"
    },
    "vscode": {
     "languageId": "dotnet-interactive.csharp"
    }
   },
   "outputs": [],
   "source": [
    "public class ArticleWarehouseDto\n",
    "{\n",
    "    public int ArticlewarehouseId { get; set; }\n",
    "    public int ArticleId { get; set; }\n",
    "\n",
    "    public ArticleDto Article { get; set; }\n",
    "}"
   ]
  },
  {
   "cell_type": "code",
   "execution_count": null,
   "metadata": {
    "dotnet_interactive": {
     "language": "csharp"
    },
    "vscode": {
     "languageId": "dotnet-interactive.csharp"
    }
   },
   "outputs": [],
   "source": [
    "var configuration = new MapperConfiguration(cfg => \n",
    "    {\n",
    "        cfg.CreateMap<Article, ArticleDto>();\n",
    "        cfg.CreateMap<Articlewarehouse, ArticleWarehouseDto>();\n",
    "        cfg.CreateMap<Articlewarehouse, ArticleWarehouseWithoutArticleDto>();\n",
    "    });\n",
    "\n",
    "var mapper = configuration.CreateMapper();"
   ]
  },
  {
   "cell_type": "markdown",
   "metadata": {},
   "source": [
    "## Analiza"
   ]
  },
  {
   "cell_type": "markdown",
   "metadata": {},
   "source": [
    "### Wpływ ProjectTo<> na liczbę kolumn w SELECT"
   ]
  },
  {
   "cell_type": "code",
   "execution_count": null,
   "metadata": {
    "dotnet_interactive": {
     "language": "csharp"
    },
    "vscode": {
     "languageId": "dotnet-interactive.csharp"
    }
   },
   "outputs": [
    {
     "data": {
      "text/plain": [
       "SELECT \"a\".\"ArticleId\", \"a\".\"Articlenumber\"\r\n",
       "FROM \"Articles\" AS \"a\""
      ]
     },
     "metadata": {},
     "output_type": "display_data"
    }
   ],
   "source": [
    "using(var dbContext = new MyDbContext())\n",
    "{\n",
    "    dbContext.Articles.ProjectTo<ArticleDto>(configuration).ToQueryString().Display();\n",
    "}"
   ]
  },
  {
   "cell_type": "markdown",
   "metadata": {},
   "source": [
    "``` sql\n",
    "SELECT \"a\".\"ArticleId\", \"a\".\"Articlenumber\"\n",
    "FROM \"Articles\" AS \"a\"\n",
    "```\n",
    "\n",
    "Jak widać na powyższym ProjectTo<> ogarniacza liczbę kolumn bazując na polach, które udało się zmapować."
   ]
  },
  {
   "cell_type": "markdown",
   "metadata": {},
   "source": [
    "### Wpływ ProjectTo<> na JOIN"
   ]
  },
  {
   "cell_type": "code",
   "execution_count": null,
   "metadata": {
    "dotnet_interactive": {
     "language": "csharp"
    },
    "vscode": {
     "languageId": "dotnet-interactive.csharp"
    }
   },
   "outputs": [
    {
     "data": {
      "text/plain": [
       "SELECT \"a\".\"ArticlewarehouseId\", \"a\".\"ArticleId\", 0, \"a0\".\"ArticleId\", \"a0\".\"Articlenumber\"\r\n",
       "FROM \"Articlewarehouses\" AS \"a\"\r\n",
       "INNER JOIN \"Articles\" AS \"a0\" ON \"a\".\"ArticleId\" = \"a0\".\"ArticleId\""
      ]
     },
     "metadata": {},
     "output_type": "display_data"
    },
    {
     "data": {
      "text/plain": [
       "SELECT \"a\".\"ArticlewarehouseId\", \"a\".\"ArticleId\"\r\n",
       "FROM \"Articlewarehouses\" AS \"a\""
      ]
     },
     "metadata": {},
     "output_type": "display_data"
    },
    {
     "data": {
      "text/plain": [
       "SELECT \"a\".\"ArticlewarehouseId\", \"a\".\"ArticleId\"\r\n",
       "FROM \"Articlewarehouses\" AS \"a\""
      ]
     },
     "metadata": {},
     "output_type": "display_data"
    },
    {
     "data": {
      "text/plain": [
       "SELECT \"a\".\"ArticlewarehouseId\", \"a\".\"ArticleId\"\r\n",
       "FROM \"Articlewarehouses\" AS \"a\"\r\n",
       "INNER JOIN \"Articles\" AS \"a0\" ON \"a\".\"ArticleId\" = \"a0\".\"ArticleId\"\r\n",
       "WHERE \"a0\".\"Articlenumber\" = '000000000000'"
      ]
     },
     "metadata": {},
     "output_type": "display_data"
    }
   ],
   "source": [
    "using(var dbContext = new MyDbContext())\n",
    "{\n",
    "    dbContext.Articlewarehouses.ProjectTo<ArticleWarehouseDto>(configuration)\n",
    "        .ToQueryString()\n",
    "        .Display();\n",
    "\n",
    "    dbContext.Articlewarehouses.ProjectTo<ArticleWarehouseWithoutArticleDto>(configuration)\n",
    "        .ToQueryString()\n",
    "        .Display();\n",
    "\n",
    "    dbContext.Articlewarehouses\n",
    "        .Include(x => x.Article)\n",
    "        .ProjectTo<ArticleWarehouseWithoutArticleDto>(configuration)\n",
    "        .ToQueryString()\n",
    "        .Display();\n",
    "\n",
    "    dbContext.Articlewarehouses\n",
    "        .Where(x => x.Article.Articlenumber == \"000000000000\")\n",
    "        .ProjectTo<ArticleWarehouseWithoutArticleDto>(configuration)\n",
    "        .ToQueryString()\n",
    "        .Display();\n",
    "}"
   ]
  },
  {
   "cell_type": "markdown",
   "metadata": {},
   "source": [
    "``` sql\n",
    "SELECT \"a\".\"ArticlewarehouseId\", \"a\".\"ArticleId\", 0, \"a0\".\"ArticleId\", \"a0\".\"Articlenumber\"\n",
    "FROM \"Articlewarehouses\" AS \"a\"\n",
    "INNER JOIN \"Articles\" AS \"a0\" ON \"a\".\"ArticleId\" = \"a0\".\"ArticleId\"\n",
    "\n",
    "SELECT \"a\".\"ArticlewarehouseId\", \"a\".\"ArticleId\"\n",
    "FROM \"Articlewarehouses\" AS \"a\"\n",
    "\n",
    "SELECT \"a\".\"ArticlewarehouseId\", \"a\".\"ArticleId\"\n",
    "FROM \"Articlewarehouses\" AS \"a\"\n",
    "\n",
    "SELECT \"a\".\"ArticlewarehouseId\", \"a\".\"ArticleId\"\n",
    "FROM \"Articlewarehouses\" AS \"a\"\n",
    "INNER JOIN \"Articles\" AS \"a0\" ON \"a\".\"ArticleId\" = \"a0\".\"ArticleId\"\n",
    "WHERE \"a0\".\"Articlenumber\" = '000000000000'\n",
    "```\n",
    "\n",
    "Jak widać na powyższym przykładzie AutoMapper w procesie mapowanie pozbywa się lub dodaje JOINy według potrzeby. Tak więc nie ma konieczności w takim wypadku wykorzystywania metody .Include(...)"
   ]
  }
 ],
 "metadata": {
  "kernelspec": {
   "display_name": ".NET (C#)",
   "language": "C#",
   "name": ".net-csharp"
  },
  "language_info": {
   "file_extension": ".cs",
   "mimetype": "text/x-csharp",
   "name": "C#",
   "pygments_lexer": "csharp",
   "version": "9.0"
  },
  "orig_nbformat": 4,
  "vscode": {
   "interpreter": {
    "hash": "5238573367df39f7286bb46f9ff5f08f63a01a80960060ce41e3c79b190280fa"
   }
  }
 },
 "nbformat": 4,
 "nbformat_minor": 2
}
